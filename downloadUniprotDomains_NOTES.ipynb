{
 "cells": [
  {
   "cell_type": "markdown",
   "metadata": {},
   "source": [
    "# Parsing Human Proteome query results containing site and region features\n",
    "2.7.2022 \n",
    "@mfpfox\n",
    "\n",
    "### help links\n",
    "* Sequence annotation (Features) <https://www.uniprot.org/help/sequence_annotation>\n",
    "* api query <https://www.uniprot.org/help/api_queries>\n",
    "\n",
    "---\n",
    "\n",
    "**columns parsed/formatted by downloadUniprotDomains.py:**\n",
    "## SITES\n",
    "1. SubstrateBindingSite\n",
    "2. ActiveSite\n",
    "3. MetalBindSite\n",
    "4. ModifiedResidue\n",
    "5. Lipidation\n",
    "6. Glycosylation\n",
    "7. Mutagenesis\n",
    "8. DisulfideBond\n",
    "\n",
    "## REGIONS\n",
    "0. topological domain (not included in saved output from script)\n",
    "1. Domain\n",
    "2. NucleotideBindRegion\n",
    "3. DNAbindRegion\n",
    "4. ZincFinger\n",
    "5. Motif\n",
    "6. DisorderedRegion\n",
    "7. BetaStrand\n",
    "8. Helix\n",
    "9. Turn\n",
    "\n",
    "---\n",
    "\n",
    "## TODO:\n",
    "- add section of code that checks if query result sequence is identical to ref of cpdaa and category positions\n",
    "    - if sequence is not identical, are positions of cpdaa and category unchanged?\n",
    "    - if sequence is same length but different, qc that site modifications match reference aa type at position\n",
    "- **add substrings corresponding to zinc fingers, domains, other regions that may be of interest for aa abundance analysis**\n",
    "- combine all functionality of will's code and brandon's code\n",
    "\n",
    "**consider changing all partition code to (;) instead of (;  )**"
   ]
  },
  {
   "cell_type": "markdown",
   "metadata": {},
   "source": [
    "---\n",
    "---\n",
    "---\n",
    "\n",
    "# SITES\n",
    "\n",
    "1. SubstrateBindingSite\n",
    "2. ActiveSite\n",
    "3. MetalBindSite\n",
    "4. ModifiedResidue\n",
    "5. Lipidation\n",
    "6. Glycosylation\n",
    "7. Mutagenesis\n",
    "8. DisulfideBond"
   ]
  },
  {
   "cell_type": "markdown",
   "metadata": {},
   "source": [
    "## parsing BINDING SITE, Binding site for any chemical group (co-enzyme, prosthetic group, etc.) \n",
    "**for Substrate binding only**\n",
    "```python\n",
    "binding = 'BINDING 277;  /note=\"Substrate; via carbonyl oxygen\";  /evidence=\"ECO:0000269|PubMed:18272479, ECO:0000269|PubMed:26074468\"; BINDING 301;  /note=\"strate\";  /evidence=\"ECO:0000269|PubMed:18272479, ECO:0000269|PubMed:23159739, ECO:0000269|PubMed:26074468\"; BINDING 339;  /note=\"Substrate\";  /evidence=\"ECO:0000269|PubMed:18272479, ECO:0000269|PubMed:23159739, ECO:0000269|PubMed:26074468\"; BINDING 341;  /note=\"Substrate\";  /evidence=\"ECO:0000269|PubMed:18272479, ECO:0000269|PubMed:23159739, ECO:0000269|PubMed:26074468\"; BINDING 497;  /note=\"Substrate\";  /evidence=\"ECO:0000269|PubMed:18272479, ECO:0000269|PubMed:23159739, ECO:0000269|PubMed:26074468\"; BINDING 501;  /note=\"Substrate\";  /evidence=\"ECO:0000269|PubMed:18272479, ECO:0000269|PubMed:23159739, ECO:0000269|PubMed:26074468\"'\n",
    "```\n",
    "**what parsing code does..**\n",
    "* splits string on certain all caps word like BINDING, ZN_FING, STRAND, DOMAIN, etc.\n",
    "* ignores positions prefaced by something other than all caps word used to split string and positions prefaced by  isoform id, ex P1234-3:2..4 ignored and TURN 10..14 ignored for BINDING split()\n",
    "* only parses positions that are describing 'Substrate' binding site\n",
    "* parses single position only and ignores 2 position annotation (checks for ..)\n",
    "* outputs single positions as list"
   ]
  },
  {
   "cell_type": "code",
   "execution_count": 6,
   "metadata": {},
   "outputs": [
    {
     "name": "stdout",
     "output_type": "stream",
     "text": [
      "['339', '341', '497', '501']\n"
     ]
    }
   ],
   "source": [
    "binding = 'BINDING P1234-4:277;  /note=\"Substrate; via carbonyl oxygen\";  /evidence=\"ECO:0000269\"; BINDING 301;  /note=\"strate\";  /evidence=\"ECO:0000269\"; BINDING 339;  /note=\"Substrate\";  /evidence=\"ECO:0000269\"; BINDING 341;  /note=\"Substrate\";  /evidence=\"ECO:0000269|PubMed:18272479\"; BINDING 497;  /note=\"Substrate\";  /evidence=\"ECO:0000269|PubMed:18272479, ECO:0000269|PubMed:23159739, ECO:0000269|PubMed:26074468\"; BINDING 501;  /note=\"Substrate\";  /evidence=\"ECO:0000269|PubMed:18272479, ECO:0000269|PubMed:23159739, ECO:0000269|PubMed:26074468\"'\n",
    "binding = binding.split(\"BINDING \")\n",
    "bind_coords=[]\n",
    "for item in binding:\n",
    "    if \"Substrate\" in item:\n",
    "        # removed two white spaces in partition in case there is no note or evidence\n",
    "        # replaced split(\"..\") with strip() to remove whitespaces\n",
    "        bind_coords.append(item.partition(\";\")[0].strip())\n",
    "bind_coords2 = []\n",
    "for item in bind_coords:\n",
    "    if len(item) > 1:\n",
    "        # checks if there is isoform id preface or if range for other type of annotation\n",
    "        if \"-\" not in item and \" \" not in item and \"..\" not in item:\n",
    "            bind_coords2.append(item)\n",
    "    else:\n",
    "        continue\n",
    "\n",
    "#print(binding)\n",
    "print(bind_coords2)"
   ]
  },
  {
   "cell_type": "markdown",
   "metadata": {},
   "source": [
    "## parsing ACTIVE SITE, Amino acid(s) directly involved in the activity of an enzyme \n",
    "```python\n",
    "active = 'ACT_SITE 99;  /evidence=\"ECO:0000250\"; ACT_SITE 170;  /evidence=\"ECO:0000250\"'\n",
    "active = 'ACT_SITE 99;  /note=\"Proton acceptor\";  /evidence=\"ECO:0000269|PubMed:11988089, ECO:0000269|PubMed:14573603\"'\n",
    "active = 'ACT_SITE 99;  /note=\"Proton donor/acceptor\";  /evidence=\"ECO:0000305|PubMed:23481380\"'\n",
    "```\n",
    "**what parsing code does..**\n",
    "* splits string on certain all caps word like ACT_SITE, ZN_FING, STRAND, DOMAIN, etc.\n",
    "* ignores positions prefaced by something other than all caps word used to split string and positions prefaced by  isoform id, ex P1234-3:2..4 ignored and TURN 10..14 ignored for ACT_SITE split()\n",
    "* parses single position only and ignores 2 position annotation (checks for ..)\n",
    "* outputs single positions as list"
   ]
  },
  {
   "cell_type": "code",
   "execution_count": 149,
   "metadata": {},
   "outputs": [
    {
     "name": "stdout",
     "output_type": "stream",
     "text": [
      "['', '99;  /note=\"Proton acceptor\";  /evidence=\"ECO:0000269|PubMed:11988089, ECO:0000269|PubMed:14573603\"']\n",
      "['99']\n"
     ]
    }
   ],
   "source": [
    "active = 'ACT_SITE 99;  /note=\"Proton acceptor\";  /evidence=\"ECO:0000269|PubMed:11988089, ECO:0000269|PubMed:14573603\"'\n",
    "active = active.split(\"ACT_SITE \")\n",
    "active_coords=[]\n",
    "for item in active:\n",
    "    # removed two white spaces in partition in case there is no note or evidence\n",
    "    # replaced split(\"..\") with strip() to remove whitespaces\n",
    "    active_coords.append(item.partition(\";\")[0].strip()) \n",
    "active_coords2 = []\n",
    "for item in active_coords:\n",
    "    if len(item) > 1:\n",
    "        # checks if there is isoform id preface or if range for other type of annotation\n",
    "        if \"-\" not in item and \" \" not in item and \"..\" not in item:\n",
    "            active_coords2.append(item)\n",
    "    else:\n",
    "        continue\n",
    "\n",
    "\n",
    "print(active)\n",
    "print(active_coords2)"
   ]
  },
  {
   "cell_type": "markdown",
   "metadata": {},
   "source": [
    "## parsing METAL BINDING SITE, Binding site for a metal ion \n",
    "```python\n",
    "metal = 'METAL 10;  /note=\"Magnesium\"; METAL 12;  /note=\"Magnesium; via carbonyl oxygen\"; METAL 145;  /note=\"Magnesium\"'\n",
    "```\n",
    "**what parsing code does..**\n",
    "* splits string on certain all caps word like METAL, ZN_FING, STRAND, DOMAIN, etc.\n",
    "* ignores positions prefaced by something other than all caps word used to split string and positions prefaced by  isoform id, ex P1234-3:2..4 ignored and TURN 10..14 ignored for METAL split()\n",
    "* parses single position only and ignores 2 position annotation (checks for ..)\n",
    "* outputs single positions as list"
   ]
  },
  {
   "cell_type": "code",
   "execution_count": 151,
   "metadata": {},
   "outputs": [
    {
     "name": "stdout",
     "output_type": "stream",
     "text": [
      "['', '10', '12', '145']\n",
      "['10', '12', '145']\n"
     ]
    }
   ],
   "source": [
    "metal = 'METAL 10;  /note=\"Magnesium\"; METAL 12;  /note=\"Magnesium; via carbonyl oxygen\"; METAL 145;  /note=\"Magnesium\"'\n",
    "metal = metal.split(\"METAL \")\n",
    "metal_coords=[]\n",
    "for item in metal:\n",
    "    # removed two white spaces in partition in case there is no note or evidence\n",
    "    # replaced split(\"..\") with strip() to remove whitespaces\n",
    "    metal_coords.append(item.partition(\";\")[0].strip()) \n",
    "metal_coords2 = []\n",
    "for item in metal_coords:\n",
    "    if len(item) > 1:\n",
    "        # checks if there is isoform id preface or if range for other type of annotation\n",
    "        if \"-\" not in item and \" \" not in item and \"..\" not in item:\n",
    "            metal_coords2.append(item)\n",
    "    else:\n",
    "        continue\n",
    "\n",
    "\n",
    "print(metal_coords)\n",
    "print(metal_coords2)"
   ]
  },
  {
   "cell_type": "markdown",
   "metadata": {},
   "source": [
    "## parsing MODIFIED RESIDUE, Modified residues excluding lipids, glycans and protein cross-links \n",
    "checking browser format of feature <>\n",
    "```python\n",
    "modresidue = 'MOD_RES 996;  /note=\"Phosphoserine\";  /evidence=\"ECO:0007744|PubMed:19690332, ECO:0007744|PubMed:20068231, ECO:0007744|PubMed:21406692, ECO:0007744|PubMed:23186163\"; MOD_RES 998;  /note=\"Phosphothreonine\";  /evidence=\"ECO:0007744|PubMed:20068231, ECO:0007744|PubMed:21406692, ECO:0007744|PubMed:23186163\"'\n",
    "```\n",
    "**what parsing code does..**\n",
    "* splits string on certain all caps word like MOD_RES, ZN_FING, STRAND, DOMAIN, etc.\n",
    "* ignores positions prefaced by something other than all caps word used to split string and positions prefaced by  isoform id, ex P1234-3:2..4 ignored and TURN 10..14 ignored for MOD_RES split()\n",
    "* parses single position only and ignores 2 position annotation (checks for ..)\n",
    "* outputs single positions as list"
   ]
  },
  {
   "cell_type": "code",
   "execution_count": 153,
   "metadata": {},
   "outputs": [
    {
     "name": "stdout",
     "output_type": "stream",
     "text": [
      "['', '996', '998']\n",
      "['996', '998']\n"
     ]
    }
   ],
   "source": [
    "modresidue = 'MOD_RES 996;  /note=\"Phosphoserine\";  /evidence=\"ECO:0007744|PubMed:19690332, ECO:0007744|PubMed:20068231, ECO:0007744|PubMed:21406692, ECO:0007744|PubMed:23186163\"; MOD_RES 998;  /note=\"Phosphothreonine\";  /evidence=\"ECO:0007744|PubMed:20068231, ECO:0007744|PubMed:21406692, ECO:0007744|PubMed:23186163\"'\n",
    "modresidue = modresidue.split(\"MOD_RES \")\n",
    "mod_coords=[]\n",
    "for item in modresidue:\n",
    "    # removed two white spaces in partition in case there is no note or evidence\n",
    "    # replaced split(\"..\") with strip() to remove whitespaces\n",
    "    mod_coords.append(item.partition(\";\")[0].strip()) \n",
    "mod_coords2 = []\n",
    "for item in mod_coords:\n",
    "    if len(item) > 1:\n",
    "        # checks if there is isoform id preface or if range for other type of annotation\n",
    "        if \"-\" not in item and \" \" not in item and \"..\" not in item:\n",
    "            mod_coords2.append(item)\n",
    "    else:\n",
    "        continue\n",
    "\n",
    "\n",
    "print(mod_coords)\n",
    "print(mod_coords2)"
   ]
  },
  {
   "cell_type": "markdown",
   "metadata": {},
   "source": [
    "## parsing LIPIDATION, Covalently attached lipid group(s) \n",
    "```python \n",
    "lipid = 'LIPID 10;  /note=\"S-palmitoyl cysteine\";  /evidence=\"ECO:0000269|PubMed:15840583\"; LIPID 11;  /note=\"S-palmitoyl cysteine\";  /evidence=\"ECO:0000269|PubMed:15840583\"; LIPID Q96GW7-2:646;  /note=\"GPI-anchor amidated alanine\";  /evidence=\"ECO:0000255\"'\n",
    "```\n",
    "**what parsing code does..**\n",
    "* splits string on certain all caps word like LIPID, MOD_RES, ZN_FING, STRAND, DOMAIN, etc.\n",
    "* ignores positions prefaced by something other than all caps word used to split string and positions prefaced by  isoform id, ex P1234-3:2..4 ignored and TURN 10..14 ignored for LIPID split()\n",
    "* parses single position only and ignores 2 position annotation (checks for ..)\n",
    "* outputs single positions as list"
   ]
  },
  {
   "cell_type": "code",
   "execution_count": 155,
   "metadata": {},
   "outputs": [
    {
     "name": "stdout",
     "output_type": "stream",
     "text": [
      "['LIPD 10', '11', 'Q96GW7-2:646']\n",
      "['11']\n"
     ]
    }
   ],
   "source": [
    "lipid = 'LIPD 10;  /note=\"S-palmitoyl cysteine\";  /evidence=\"ECO:0000269|PubMed:15840583\"; LIPID 11;  /note=\"S-palmitoyl cysteine\";  /evidence=\"ECO:0000269|PubMed:15840583\"; LIPID Q96GW7-2:646;  /note=\"GPI-anchor amidated alanine\";  /evidence=\"ECO:0000255\"'\n",
    "lipid = lipid.split(\"LIPID \")\n",
    "lipid_coords=[]\n",
    "for item in lipid:\n",
    "    # removed two white spaces in partition in case there is no note or evidence\n",
    "    # replaced split(\"..\") with strip() to remove whitespaces\n",
    "    lipid_coords.append(item.partition(\";\")[0].strip()) \n",
    "lipid_coords2 = []\n",
    "for item in lipid_coords:\n",
    "    if len(item) > 1:\n",
    "        # checks if there is isoform id preface or if range for other type of annotation\n",
    "        if \"-\" not in item and \" \" not in item and \"..\" not in item:\n",
    "            lipid_coords2.append(item)\n",
    "    else:\n",
    "        continue\n",
    "\n",
    "\n",
    "print(lipid_coords)\n",
    "print(lipid_coords2)"
   ]
  },
  {
   "cell_type": "markdown",
   "metadata": {},
   "source": [
    "## parsing GLYCOSYLATION, Covalently attached glycan group(s) \n",
    "```python\n",
    "glycos = 'CARBOHYD Q9BXJ4-3:70;  /note=\"N-linked (GlcNAc...) asparagine\";  /evidence=\"ECO:0000269|PubMed:7505568\"; CARBOHYD 106;  /note=\"N-linked (GlcNAc...) asparagine; partial\";  /evidence=\"ECO:0000269|PubMed:7505568\"; CARBOHYD 223;  /note=\"N-linked (GlcNAc...) asparagine\";  /evidence=\"ECO:0000269|PubMed:7505568\"; CARBOHYD 246;  /note=\"N-linked (GlcNAc...) asparagine\";  /evidence=\"ECO:0000269|PubMed:7505568\"; CARBOHYD 315;  /note=\"N-linked (GlcNAc...) asparagine\";  /evidence=\"ECO:0000269|PubMed:7505568\"; CARBOHYD 406;  /note=\"N-linked (GlcNAc...) asparagine\";  /evidence=\"ECO:0000269|PubMed:7505568\"; CARBOHYD 450;  /note=\"N-linked (GlcNAc...) asparagine\";  /evidence=\"ECO:0000269|PubMed:7505568\"; CARBOHYD 454;  /note=\"N-linked (GlcNAc...) asparagine\";  /evidence=\"ECO:0000269|PubMed:7505568\"'\n",
    "```"
   ]
  },
  {
   "cell_type": "code",
   "execution_count": 157,
   "metadata": {},
   "outputs": [
    {
     "name": "stdout",
     "output_type": "stream",
     "text": [
      "['', 'Q9BXJ4-3:70', '106', '223', '246', '315', '406', '450', '454']\n",
      "['106', '223', '246', '315', '406', '450', '454']\n"
     ]
    }
   ],
   "source": [
    "glycos = 'CARBOHYD Q9BXJ4-3:70;  /note=\"N-linked (GlcNAc...) asparagine\";  /evidence=\"ECO:0000269|PubMed:7505568\"; CARBOHYD 106;  /note=\"N-linked (GlcNAc...) asparagine; partial\";  /evidence=\"ECO:0000269|PubMed:7505568\"; CARBOHYD 223;  /note=\"N-linked (GlcNAc...) asparagine\";  /evidence=\"ECO:0000269|PubMed:7505568\"; CARBOHYD 246;  /note=\"N-linked (GlcNAc...) asparagine\";  /evidence=\"ECO:0000269|PubMed:7505568\"; CARBOHYD 315;  /note=\"N-linked (GlcNAc...) asparagine\";  /evidence=\"ECO:0000269|PubMed:7505568\"; CARBOHYD 406;  /note=\"N-linked (GlcNAc...) asparagine\";  /evidence=\"ECO:0000269|PubMed:7505568\"; CARBOHYD 450;  /note=\"N-linked (GlcNAc...) asparagine\";  /evidence=\"ECO:0000269|PubMed:7505568\"; CARBOHYD 454;  /note=\"N-linked (GlcNAc...) asparagine\";  /evidence=\"ECO:0000269|PubMed:7505568\"'\n",
    "glycos = glycos.split(\"CARBOHYD \")\n",
    "gly_coords=[]\n",
    "for item in glycos:\n",
    "    # removed two white spaces in partition in case there is no note or evidence\n",
    "    # replaced split(\"..\") with strip() to remove whitespaces\n",
    "    gly_coords.append(item.partition(\";\")[0].strip()) \n",
    "gly_coords2 = []\n",
    "for item in gly_coords:\n",
    "    if len(item) > 1:\n",
    "        # checks if there is isoform id preface or if range for other type of annotation\n",
    "        if \"-\" not in item and \" \" not in item and \"..\" not in item:\n",
    "            gly_coords2.append(item)\n",
    "    else:\n",
    "        continue\n",
    "\n",
    "\n",
    "print(gly_coords)\n",
    "print(gly_coords2)"
   ]
  },
  {
   "cell_type": "markdown",
   "metadata": {},
   "source": [
    "## parsing MUTAGENESIS, Site which has been experimentally altered by mutagenesis \n",
    "```python\n",
    "mutagen = 'MUTAGEN 103..107;  /note=\"LLLDD->AAAAA: Reduces clathrin binding.\";  /evidence=\"ECO:0000269|PubMed:11239472\"; MUTAGEN 254;  /note=\"S->A: No effect on phosphorylation in vitro.\";  /evidence=\"ECO:0000269|PubMed:12719431\"; MUTAGEN 259;  /note=\"S->A,D,E: Abolishes phosphorylation, no change in activity.\";  /evidence=\"ECO:0000269|PubMed:12719431\"; MUTAGEN 259;  /note=\"S->A: Protects from proteolysis.\";  /evidence=\"ECO:0000269|PubMed:12719431\"; MUTAGEN 262;  /note=\"S->A: No effect on phosphorylation in vitro.\";  /evidence=\"ECO:0000269|PubMed:12719431\"; MUTAGEN 266;  /note=\"S->A: No effect on phosphorylation in vitro.\";  /evidence=\"ECO:0000269|PubMed:12719431\"; MUTAGEN 1250;  /note=\"D->A: Abolishes lipid kinase activity. Affects clathrin distribution when combined with a truncation encompassing the region of clathrin interaction.\";  /evidence=\"ECO:0000269|PubMed:16215232\"; MUTAGEN 1488;  /note=\"R->A: Reduces affinity for PtdIns(4,5)P2-containing membranes 7-fold.\";  /evidence=\"ECO:0000269|PubMed:17038310\"; MUTAGEN 1490;  /note=\"V->A: Reduces affinity for PtdIns(4,5)P2-containing membranes 7-fold.\";  /evidence=\"ECO:0000269|PubMed:17038310\"; MUTAGEN 1491;  /note=\"L->A: Reduces affinity for PtdIns(4,5)P2-containing membranes 5-fold.\";  /evidence=\"ECO:0000269|PubMed:17038310\"; MUTAGEN 1493;  /note=\"R->A: Reduces affinity for PtdIns(4,5)P2-containing membranes 23-fold.\";  /evidence=\"ECO:0000269|PubMed:17038310\"; MUTAGEN 1503;  /note=\"R->A: Abolishes interaction with PtdIns(4,5)P2-containing membranes.\";  /evidence=\"ECO:0000269|PubMed:17038310\"'\n",
    "\n",
    "mutagen = 'MUTAGEN 1030;  /note=\"C->S: Abolishes enzymatic activity.\";  /evidence=\"ECO:0000269|PubMed:16912044\"![image.png](attachment:image.png)'\n",
    "```"
   ]
  },
  {
   "cell_type": "code",
   "execution_count": 3,
   "metadata": {},
   "outputs": [
    {
     "name": "stdout",
     "output_type": "stream",
     "text": [
      "['', '99..1000', '1030', '33']\n",
      "['1030', '33']\n"
     ]
    }
   ],
   "source": [
    "mutagen = 'MUTAGEN 99..1000;  /note=\"C->S: Abolishes enzymatic activity.\";  /evidence=\"ECO:0000269|PubMed:16912044\"![image.png](attachment:image.png); MUTAGEN 1030;MUTAGEN 33; '\n",
    "mutagen = mutagen.split(\"MUTAGEN \")\n",
    "mut_coords=[]\n",
    "for item in mutagen:\n",
    "    # removed two white spaces in partition in case there is no note or evidence\n",
    "    # replaced split(\"..\") with strip() to remove whitespaces\n",
    "    mut_coords.append(item.partition(\";\")[0].strip()) \n",
    "mut_coords2 = []\n",
    "for item in mut_coords:\n",
    "    if len(item) > 1:\n",
    "        # checks if there is isoform id preface or if range for other type of annotation\n",
    "        if \"-\" not in item and \" \" not in item and \"..\" not in item:\n",
    "            mut_coords2.append(item)\n",
    "    else:\n",
    "        continue\n",
    "\n",
    "\n",
    "print(mut_coords)\n",
    "print(mut_coords2)"
   ]
  },
  {
   "cell_type": "markdown",
   "metadata": {},
   "source": [
    "## parsing DISULFIDE, Cysteine residues participating in disulfide bonds \n",
    "example of browser <https://www.uniprot.org/uniprot/P22303>\n",
    "```python \n",
    "# for P22303 qc\n",
    "disulfide ='DISULFID 100..127; DISULFID 288..303; DISULFID 440..560; DISULFID 611;  /note=\"Interchain\"![image.png](attachment:image.png)'\n",
    "disulfide = 'DISULFID 1156..1291;  /evidence=\"ECO:0000255|PROSITE-ProRule:PRU00580\"; DISULFID 1178..1330;  /evidence=\"ECO:0000255|PROSITE-ProRule:PRU00580\"; DISULFID 1542..1680;  /evidence=\"ECO:0000255|PROSITE-ProRule:PRU00580\"; DISULFID 1564..1719;  /evidence=\"ECO:0000255|PROSITE-ProRule:PRU00580\"; DISULFID 1931..2069;  /evidence=\"ECO:0000255|PROSITE-ProRule:PRU00580\"; DISULFID 1953..2107;  /evidence=\"ECO:0000255|PROSITE-ProRule:PRU00580\"; DISULFID 2331..2468;  /evidence=\"ECO:0000255|PROSITE-ProRule:PRU00580\"; DISULFID 2712..2723;  /evidence=\"ECO:0000250\"; DISULFID 2717..2732;  /evidence=\"ECO:0000250\"; DISULFID 2734..2743;  /evidence=\"ECO:0000250\"![image.png](attachment:image.png)'\n",
    "```\n",
    "**what parsing code does..**\n",
    "* includes 2 position format (.. between values) and single position format\n",
    "* ignores positions prefaced by something other than DISULFID and positions prefaced by uniprot isoform id, ex P1234-3:2..4 ignored and TURN 10..14 ignored\n",
    "* ignores note and evidence text by not including items containing = chr\n",
    "* output of 2 positions and single position separated by .., single position 611 output is 611..611"
   ]
  },
  {
   "cell_type": "code",
   "execution_count": 118,
   "metadata": {},
   "outputs": [
    {
     "name": "stdout",
     "output_type": "stream",
     "text": [
      "['288..303', '440..560', '611..611']\n"
     ]
    }
   ],
   "source": [
    "bonds ='D 100127; DISULFID 288..303; DISULFID 440..560; DISULFID 611;  /note=\"Interchain\"![image.png](attachment:image.png)'\n",
    "bond_coords2 = []\n",
    "bonds = bonds.replace(\" DISULFID \", \"\")\n",
    "bonds = bonds.replace(\"DISULFID \", \"\")\n",
    "bonds=bonds.split(\";\")\n",
    "for item in bonds:\n",
    "    # 2 positions\n",
    "    if '..' in item:\n",
    "        bond_coords = [item.split(\"..\")[0], item.split(\"..\")[1]]\n",
    "        # checks if there is isoform id preface or if range for other type of annotation\n",
    "        if \"-\" not in bond_coords[0] and \" \" not in bond_coords[0]:\n",
    "            bond_coords2.append(bond_coords)\n",
    "    # 1 position\n",
    "    if '..' not in item:\n",
    "        # checks if there is isoform id preface or if range for other type of annotation\n",
    "        if \"-\" not in item and \" \" not in item and \"=\" not in item:\n",
    "            v = []\n",
    "            v.append(item)\n",
    "            v.append(item)\n",
    "            bond_coords2.append(v)\n",
    "bridges = [x + \"..\" + y for x, y in bond_coords2]\n",
    "\n",
    "print(bridges)"
   ]
  },
  {
   "cell_type": "markdown",
   "metadata": {},
   "source": [
    "---\n",
    "---\n",
    "---\n",
    "---\n",
    "\n",
    "# REGIONS\n",
    "0. topological domain (not included in saved output from script)\n",
    "1. Domain\n",
    "2. NucleotideBindRegion\n",
    "3. DNAbindRegion\n",
    "4. ZincFinger\n",
    "5. Motif\n",
    "6. DisorderedRegion\n",
    "7. BetaStrand\n",
    "8. Helix\n",
    "9. Turn"
   ]
  },
  {
   "cell_type": "markdown",
   "metadata": {},
   "source": [
    "## parsing TOPOLOGICAL DOMAIN, Location of non-membrane regions of membrane-spanning proteins \n",
    "**for Extracellular range parsing**\n",
    "\n",
    "```python \n",
    "topological_domain=\"TOPO_DOM 24 118 Extracellular. {ECO:0000255}.; TOPO_DOM 118 Extracellular. {ECO:0000255}.; TOPO_DOM 139 139 Extracellular. {ECO:0000255}.\"\n",
    "```\n",
    "**what parsing code does..**\n",
    "* splits string on certain all caps word like TOPO_DOM, ZN_FING, STRAND, DOMAIN, etc.\n",
    "* ignores positions prefaced by something other than all caps word used to split string and positions prefaced by uniprot isoform id, ex P1234-3:2..4 ignored and TURN 10..14 ignored for TOPO_DOM split()\n",
    "* only parses positions that are describing 'Extracellular' feature\n",
    "* parses range format (includes .. between values) and single position annotation\n",
    "* single position annotation converted to range format\n",
    "* outputs 2 position range and single position as values separated by -\n",
    "\n",
    "```python \n",
    "topological_domain=\"TOPODOM 1..149;  /note='Extracellular';  /evidence='ECO:0000305|PubMed:27999994'; TOPO_DOM 171;  /note='Extracellular';  /evidence='ECO:0000305'; TOPO_DOM 193..196;  /note='Cytoplasmic';  /evidence='ECO:0000305'; TOPO_DOM 218..220;  /note='Extracellular';  /evidence='ECO:0000305'; TOPO_DOM 242..259;  /note='Cytoplasmic';  /evidence='ECO:0000305'\"                        \n",
    "topo = topological_domain.split(\"TOPO_DOM \")\n",
    "extracell_coords=[]\n",
    "for item in topo:\n",
    "    if \"Extracellular\" in item:\n",
    "        extracell_coords.append(item.partition(\";  \")[0].split(\"..\"))\n",
    "extracell_coords2 = []\n",
    "for item in extracell_coords:\n",
    "    # 2 position range\n",
    "    if len(item) > 1:\n",
    "        # checks if there is isoform id preface or if range for other type of annotation\n",
    "        if \"-\" not in item[0] and \" \" not in item[0]:\n",
    "            extracell_coords2.append(item)\n",
    "    # single position\n",
    "    elif len(item) == 1:\n",
    "        # checks if there is isoform id preface or if range for other type of annotation\n",
    "        if \"-\" not in item and \" \" not in item:\n",
    "            v = []\n",
    "            v.append(item[0])\n",
    "            v.append(item[0])\n",
    "            extracell_coords2.append(v)\n",
    "    else:\n",
    "        continue\n",
    "extracell_ranges = [x + \"-\" + y for x, y in extracell_coords2]\n",
    "\n",
    "\n",
    "print(extracell_ranges)\n",
    "```"
   ]
  },
  {
   "cell_type": "markdown",
   "metadata": {},
   "source": [
    "## parsing NUCLEOTIDE BINDING, Nucleotide phosphate binding region \n",
    "example on browser of feature <https://www.uniprot.org/uniprot/P49914>\n",
    "```python \n",
    "nucleotide= 'NP_BIND 10..14;  /note=\"FAD\";  /evidence=\"ECO:0000250|UniProtKB:Q9HFE4\"; NP_BIND 41..42;  /note=\"FAD\";  /evidence=\"ECO:0000250|UniProtKB:Q9HFE4\"; NP_BIND 62..63;  /note=\"FAD\";  /evidence=\"ECO:0000250|UniProtKB:Q9HFE4\"; NP_BIND 196..199;  /note=\"NADP\";  /evidence=\"ECO:0000250|UniProtKB:Q9HFE4\"'\n",
    "```\n",
    "**what parsing code does..**\n",
    "* splits string on certain all caps word like NP_BIND, ZN_FING, STRAND, DOMAIN, etc.\n",
    "* ignores positions prefaced by something other than all caps word used to split string and positions prefaced by uniprot isoform id, ex P1234-3:2..4 ignored and TURN 10..14 ignored for NP_BIND split()\n",
    "* parses 2 position range format ( .. between values) and ignores single position annotation\n",
    "* outputs position range separated by -"
   ]
  },
  {
   "cell_type": "code",
   "execution_count": 4,
   "metadata": {},
   "outputs": [
    {
     "name": "stdout",
     "output_type": "stream",
     "text": [
      "['62-63', '196-199']\n"
     ]
    }
   ],
   "source": [
    "nucleotide= 'TURN 10..14;  /note=\"FAD\";  /evidence=\"ECO:0000250|UniProtKB:Q9HFE4\"; TURN 41..41;  /note=\"FAD\";  /evidence=\"ECO:0000250|UniProtKB:Q9HFE4\"; NP_BIND 62..63;  /note=\"FAD\";  /evidence=\"ECO:0000250|UniProtKB:Q9HFE4\"; NP_BIND 196..199;  /note=\"NADP\";  /evidence=\"ECO:0000250|UniProtKB:Q9HFE4\"'\n",
    "nucleotide = nucleotide.split(\"NP_BIND \")\n",
    "nuc_coords=[]\n",
    "for item in nucleotide:\n",
    "    # check if its a range\n",
    "    if \"..\" in item:\n",
    "        # ignores non NP_BIND #..# in item that begins with NP_BIND by spliting on NP_BIND\n",
    "        nuc_coords.append(item.partition(\";  \")[0].split(\"..\"))\n",
    "nuc_coords2 = []\n",
    "for item in nuc_coords:\n",
    "    if len(item) > 1:\n",
    "        # checks if there is isoform id preface or if range for other type of annotation\n",
    "        if \"-\" not in item[0] and \" \" not in item[0]:\n",
    "            nuc_coords2.append(item)\n",
    "npbind_ranges = [x + \"-\" + y for x, y in nuc_coords2]\n",
    "\n",
    "\n",
    "print(npbind_ranges)"
   ]
  },
  {
   "cell_type": "markdown",
   "metadata": {},
   "source": [
    "## parsing DNA BINDING, Position and type of a DNA-binding domain \n",
    "```python \n",
    "dna = 'DNA_BIND 17..21;  /evidence=\"ECO:0000250\"'\n",
    "dna = 'DNA_BIND 170..253;  /note=\"ETS\";  /evidence=\"ECO:0000255|PROSITE-ProRule:PRU00237\"'\n",
    "dna = 'DNA_BIND 170..362'\n",
    "```\n",
    "**what parsing code does..**\n",
    "* splits string on certain all caps word like NP_BIND, ZN_FING, STRAND, DOMAIN, etc.\n",
    "* ignores positions prefaced by something other than all caps word used to split string and positions prefaced by uniprot isoform id, ex P1234-3:2..4 ignored and TURN 10..14 ignored for NP_BIND split()\n",
    "* parses 2 position range format ( .. between values) and ignores single position annotation\n",
    "* outputs position range separated by -"
   ]
  },
  {
   "cell_type": "code",
   "execution_count": 5,
   "metadata": {},
   "outputs": [
    {
     "name": "stdout",
     "output_type": "stream",
     "text": [
      "['170-53']\n"
     ]
    }
   ],
   "source": [
    "dna= 'DNA_BIND 170..53;  /note=\"ETS\";  /evidence=\"ECO:0000255|PROSITE-ProRule:PRU00237\"'\n",
    "dna = dna.split(\"DNA_BIND \")\n",
    "dna_coords=[]\n",
    "for item in dna:\n",
    "    # check if its a range\n",
    "    if \"..\" in item:\n",
    "        # ignores non DNA_BIND prefaced ranges in item by spliting on DNA_BIND\n",
    "        dna_coords.append(item.partition(\";  \")[0].split(\"..\"))\n",
    "\n",
    "dna_coords2 = []\n",
    "for item in dna_coords:\n",
    "    if len(item) > 1:\n",
    "       # checks if there is isoform id preface or if range for other type of annotation\n",
    "        if \"-\" not in item[0] and \" \" not in item[0]:\n",
    "            dna_coords2.append(item)\n",
    "dnabind_ranges = [x + \"-\" + y for x, y in dna_coords2]\n",
    "\n",
    "\n",
    "print(dnabind_ranges)"
   ]
  },
  {
   "cell_type": "markdown",
   "metadata": {},
   "source": [
    "## parsing ZINC BINDING, Position(s) and type(s) of zinc fingers within the protein \n",
    "```python \n",
    "zinc = 'ZN_FING 360..382;  /note=\"C2H2-type 1\";  /evidence=\"ECO:0000255|PROSITE-ProRule:PRU00042\"; ZN_FING 390..412;  /note=\"C2H2-type 2\";  /evidence=\"ECO:0000255|PROSITE-ProRule:PRU00042\"; ZN_FING 483..506;  /note=\"C2H2-type 3\";  /evidence=\"ECO:0000255|PROSITE-ProRule:PRU00042\"'\n",
    "```\n",
    "**what parsing code does..**\n",
    "* splits string on certain all caps word like NP_BIND, ZN_FING, STRAND, DOMAIN, etc.\n",
    "* ignores positions prefaced by something other than all caps word used to split string and positions prefaced by uniprot isoform id, ex P1234-3:2..4 ignored and TURN 10..14 ignored for NP_BIND split()\n",
    "* parses 2 position range format ( .. between values) and ignores single position annotation\n",
    "* outputs position range separated by -"
   ]
  },
  {
   "cell_type": "code",
   "execution_count": 112,
   "metadata": {},
   "outputs": [
    {
     "name": "stdout",
     "output_type": "stream",
     "text": [
      "['390-412', '483-506']\n"
     ]
    }
   ],
   "source": [
    "zinc = 'ZNFING 360..382;  /note=\"C2H2-type 1\";  /evidence=\"ECO:0000255|PROSITE-ProRule:PRU00042\"; ZN_FING 390..412;  /note=\"C2H2-type 2\";  /evidence=\"ECO:0000255|PROSITE-ProRule:PRU00042\"; ZN_FING 483..506;  /note=\"C2H2-type 3\";  /evidence=\"ECO:0000255|PROSITE-ProRule:PRU00042\"'\n",
    "zinc = zinc.split(\"ZN_FING \")\n",
    "z_coords=[]\n",
    "for item in zinc:\n",
    "    # check if its a range\n",
    "    if \"..\" in item:\n",
    "        # ignores non ZN_FING prefaced ranges in item by spliting on ZN_FING\n",
    "        z_coords.append(item.partition(\";  \")[0].split(\"..\"))\n",
    "z_coords2 = []\n",
    "for item in z_coords:\n",
    "    if len(item) > 1:\n",
    "        # checks if there is isoform id preface or if range for other type of annotation\n",
    "        if \"-\" not in item[0] and \" \" not in item[0]:\n",
    "            z_coords2.append(item)\n",
    "zinc_ranges = [x + \"-\" + y for x, y in z_coords2]\n",
    "\n",
    "\n",
    "print(zinc_ranges)"
   ]
  },
  {
   "cell_type": "markdown",
   "metadata": {},
   "source": [
    "## parsing MOTIF, Short (up to 20 amino acids) sequence motif of biological interest \n",
    "```python \n",
    "motif = 'MOTIF 996..999;  /note=\"Prevents secretion from ER\";  /evidence=\"ECO:0000255\"'\n",
    "motif = 'MOTIF O60313-2:217..222;  /note=\"LQQQIQ motif\";  /evidence=\"ECO:0000269|PubMed:16778770\"; MOTIF O60313-9:181..186;  /note=\"LQQQIQ motif\";  /evidence=\"ECO:0000269|PubMed:16778770\"; MOTIF O60313-10:235..240;  /note=\"LQQQIQ motif\";  /evidence=\"ECO:0000269|PubMed:16778770\"'\n",
    "```\n",
    "**what parsing code does..**\n",
    "* splits string on certain all caps word like NP_BIND, ZN_FING, STRAND, DOMAIN, etc.\n",
    "* ignores positions prefaced by something other than all caps word used to split string and positions prefaced by uniprot isoform id, ex P1234-3:2..4 ignored and TURN 10..14 ignored for NP_BIND split()\n",
    "* parses 2 position range format ( .. between values) and ignores single position annotation\n",
    "* outputs position range separated by -"
   ]
  },
  {
   "cell_type": "code",
   "execution_count": 88,
   "metadata": {},
   "outputs": [
    {
     "name": "stdout",
     "output_type": "stream",
     "text": [
      "['181-186']\n"
     ]
    }
   ],
   "source": [
    "motif = 'MOTIF 111222;  /note=\"LQQQIQ motif\";  /evidence=\"ECO:0000269|PubMed:16778770\"; MOTIF 181..186;  /note=\"LQQQIQ motif\";  /evidence=\"ECO:0000269|PubMed:16778770\"; MOTIF O60313-10:235..240;  /note=\"LQQQIQ motif\";  /evidence=\"ECO:0000269|PubMed:16778770\"'\n",
    "motif = motif.split(\"MOTIF \")\n",
    "motif_coords=[]\n",
    "for item in motif:\n",
    "    # check if its a range\n",
    "    if \"..\" in item:\n",
    "        # ignores non MOTIF prefaced ranges in item by spliting on MOTIF\n",
    "        motif_coords.append(item.partition(\";  \")[0].split(\"..\"))\n",
    "motif_coords2 = []\n",
    "for item in motif_coords:\n",
    "    if len(item) > 1:\n",
    "        # checks if there is isoform id preface or if range for other type of annotation\n",
    "        if \"-\" not in item[0] and \" \" not in item[0]:\n",
    "            # ignore ranges for non-canonical sequence since im only checking pos and seq identify of canonical \n",
    "            motif_coords2.append(item)\n",
    "motif_ranges = [x + \"-\" + y for x, y in motif_coords2]\n",
    "\n",
    "\n",
    "print(motif_ranges)"
   ]
  },
  {
   "cell_type": "markdown",
   "metadata": {},
   "source": [
    "## parsing REGION, Region of interest in the sequence \n",
    "**for Disordered position(s)**\n",
    "```python \n",
    "region= 'REGION 98..109;  /note=\"J region (By similarity to lambda light-chain)\"; REGION 110..214;  /note=\"C region (By similarity to lambda light-chain)\"; REGION 98..118;  /note=\"Disordered\";  /evidence=\"ECO:0000256|SAM:MobiDB-lite\"'\n",
    "```\n",
    "**what parsing code does..**\n",
    "* splits string on certain all caps word like NP_BIND, ZN_FING, STRAND, DOMAIN, etc.\n",
    "* ignores positions prefaced by something other than all caps word used to split string and positions prefaced by uniprot isoform id, ex P1234-3:2..4 ignored and TURN 10..14 ignored for NP_BIND split()\n",
    "* only parses positions that are describing 'Disordered' feature\n",
    "* parses range format (includes .. between values) and single position annotation\n",
    "* single position annotation converted to range\n",
    "* outputs 2 position range and single position as values separated by -"
   ]
  },
  {
   "cell_type": "code",
   "execution_count": 114,
   "metadata": {},
   "outputs": [
    {
     "name": "stdout",
     "output_type": "stream",
     "text": [
      "['9109-9109', '98-118']\n"
     ]
    }
   ],
   "source": [
    "region= 'REGION 9109;  /note=\"Disordered (By similarity to lambda light-chain)\"; REGION 110..214;  /note=\"C region (By similarity to lambda light-chain)\"; REGION 98..118;  /note=\"Disordered\";  /evidence=\"ECO:0000256|SAM:MobiDB-lite\"'\n",
    "disorder = region.split(\"REGION \")\n",
    "disorder_coords=[]\n",
    "for item in disorder:\n",
    "    if \"Disordered\" in item:\n",
    "        disorder_coords.append(item.partition(\";  \")[0].split(\"..\"))\n",
    "disorder_coords2 = []\n",
    "for item in disorder_coords:\n",
    "    if len(item) > 1:\n",
    "        # checks if there is isoform id preface or if range for other type of annotation\n",
    "        if \"-\" not in item[0] and \" \" not in item[0]:\n",
    "            disorder_coords2.append(item)\n",
    "    elif len(item) == 1:\n",
    "        # case of single position, make into range format\n",
    "        # checks if there is isoform id preface or if range for other type of annotation\n",
    "        if \"-\" not in item[0] and \" \" not in item[0]:\n",
    "            v = []\n",
    "            v.append(item[0])\n",
    "            v.append(item[0])\n",
    "            disorder_coords2.append(v)\n",
    "    else:\n",
    "        continue\n",
    "disorder_ranges = [x + \"-\" + y for x, y in disorder_coords2]\n",
    "\n",
    "\n",
    "print(disorder_ranges)"
   ]
  },
  {
   "cell_type": "markdown",
   "metadata": {},
   "source": [
    "## parsing DOMAIN, Position and type of each modular protein domain \n",
    "```python \n",
    "domain = 'DOMAIN 1..101;  /note=\"C2 1\";  /evidence=\"ECO:0000255|PROSITE-ProRule:PRU00041\"; DOMAIN 181..300;  /note=\"C2 2\";  /evidence=\"ECO:0000255|PROSITE-ProRule:PRU00041\"; DOMAIN 339..474;  /note=\"C2 3\";  /evidence=\"ECO:0000255|PROSITE-ProRule:PRU00041\"; DOMAIN 1123..1251;  /note=\"C2 4\";  /evidence=\"ECO:0000255|PROSITE-ProRule:PRU00041\"; DOMAIN 1282..1410;  /note=\"C2 5\";  /evidence=\"ECO:0000255|PROSITE-ProRule:PRU00041\"; DOMAIN 1536..1654;  /note=\"C2 6\";  /evidence=\"ECO:0000255|PROSITE-ProRule:PRU00041\"; DOMAIN 1772..1920;  /note=\"C2 7\";  /evidence=\"ECO:0000255|PROSITE-ProRule:PRU00041\"'\n",
    "```\n",
    "**what parsing code does..**\n",
    "* splits string on certain all caps word like NP_BIND, ZN_FING, STRAND, DOMAIN, etc.\n",
    "* ignores positions prefaced by something other than all caps word used to split string and positions prefaced by uniprot isoform id, ex P1234-3:2..4 ignored and TURN 10..14 ignored for NP_BIND split()\n",
    "* parses 2 position range format ( .. between values) and ignores single position annotation\n",
    "* outputs position range separated by -"
   ]
  },
  {
   "cell_type": "code",
   "execution_count": 117,
   "metadata": {},
   "outputs": [
    {
     "name": "stdout",
     "output_type": "stream",
     "text": [
      "['299-300', '339-474', '1123-1251', '1282-1410', '1536-1654', '1772-1920']\n"
     ]
    }
   ],
   "source": [
    "domain = 'DOMAIN P123454-2:1..101;  /note=\"C2 1\";  /evidence=\"ECO:0000255|PROSITE-ProRule:PRU00041\"; DOMAIN 299..300;  /note=\"C2 2\";  /evidence=\"ECO:0000255|PROSITE-ProRule:PRU00041\"; DOMAIN 339..474;  /note=\"C2 3\";  /evidence=\"ECO:0000255|PROSITE-ProRule:PRU00041\"; DOMAIN 1123..1251;  /note=\"C2 4\";  /evidence=\"ECO:0000255|PROSITE-ProRule:PRU00041\"; DOMAIN 1282..1410;  /note=\"C2 5\";  /evidence=\"ECO:0000255|PROSITE-ProRule:PRU00041\"; DOMAIN 1536..1654;  /note=\"C2 6\";  /evidence=\"ECO:0000255|PROSITE-ProRule:PRU00041\"; DOMAIN 1772..1920;  /note=\"C2 7\";  /evidence=\"ECO:0000255|PROSITE-ProRule:PRU00041\"'\n",
    "domain = domain.split(\"DOMAIN \")\n",
    "domain_coords=[]\n",
    "for item in domain:\n",
    "    # check if its a range\n",
    "    if \"..\" in item:\n",
    "        # ignores non DOMAIN prefaced ranges in item by spliting on DOMAIN\n",
    "        domain_coords.append(item.partition(\";  \")[0].split(\"..\"))\n",
    "domain_coords2 = []\n",
    "for item in domain_coords:\n",
    "    if len(item) > 1:\n",
    "        # checks if there is isoform id preface or if range for other type of annotation\n",
    "        if \"-\" not in item[0] and \" \" not in item[0]:\n",
    "            domain_coords2.append(item)\n",
    "domain_ranges = [x + \"-\" + y for x, y in domain_coords2]\n",
    "\n",
    "\n",
    "print(domain_ranges)"
   ]
  },
  {
   "cell_type": "markdown",
   "metadata": {},
   "source": [
    "## parsing BETA STRAND, Beta strand regions within the experimentally determined protein structure\n",
    "\n",
    "```python \n",
    "beta = 'STRAND 1..3;  /evidence=\"ECO:0007829|PDB:6KVG\"; STRAND 40..42;  /evidence=\"ECO:0007829|PDB:6KVG\"; STRAND 210..212;  /evidence=\"ECO:0007829|PDB:6KVG\"; STRAND 243..246;  /evidence=\"ECO:0007829|PDB:6KVG\"'\n",
    "```\n",
    "**what parsing code does..**\n",
    "* splits string on certain all caps word like NP_BIND, ZN_FING, STRAND, DOMAIN, etc.\n",
    "* ignores positions prefaced by something other than all caps word used to split string and positions prefaced by uniprot isoform id, ex P1234-3:2..4 ignored and TURN 10..14 ignored for STRAND split()\n",
    "* parses 2 position range format ( .. between values) and ignores single position annotation\n",
    "* outputs position range separated by -"
   ]
  },
  {
   "cell_type": "code",
   "execution_count": 120,
   "metadata": {},
   "outputs": [
    {
     "name": "stdout",
     "output_type": "stream",
     "text": [
      "['40-42', '210-212', '243-246']\n"
     ]
    }
   ],
   "source": [
    "beta = 'STRAD 1..3;  /evidence=\"ECO:0007829|PDB:6KVG\"; STRAND 40..42;  /evidence=\"ECO:0007829|PDB:6KVG\"; STRAND 210..212;  /evidence=\"ECO:0007829|PDB:6KVG\"; STRAND 243..246;  /evidence=\"ECO:0007829|PDB:6KVG\"'\n",
    "strand_coords = []\n",
    "beta = beta.split(\"STRAND \")\n",
    "for item in beta:\n",
    "    # check if its a range\n",
    "    if \"..\" in item:\n",
    "        # ignores non STRAND #..# in item by spliting on STRAND\n",
    "        strand_coords.append(item.partition(\";  \")[0].split(\"..\"))\n",
    "strand_coords2 = []\n",
    "for item in strand_coords:\n",
    "    if len(item) > 1:\n",
    "        # checks if there is isoform id preface or if range for other type of annotation\n",
    "        if \"-\" not in item[0] and \" \" not in item[0]:\n",
    "            strand_coords2.append(item)\n",
    "strand_ranges = [x + \"-\" + y for x, y in strand_coords2]\n",
    "\n",
    "print(strand_ranges)"
   ]
  },
  {
   "cell_type": "markdown",
   "metadata": {},
   "source": [
    "## parsing HELIX, Helical regions within the experimentally determined protein structure \n",
    "```python \n",
    "helix = 'HELIX 89..92;  /evidence=\"ECO:0007829|PDB:4IQH\"; HELIX 983..985;  /evidence=\"ECO:0007829|PDB:4CAH\"'\n",
    "```\n",
    "**what parsing code does..**\n",
    "* splits string on certain all caps word like NP_BIND, ZN_FING, STRAND, DOMAIN, etc.\n",
    "* ignores positions prefaced by something other than all caps word used to split string and positions prefaced by uniprot isoform id, ex P1234-3:2..4 ignored and TURN 10..14 ignored for STRAND split()\n",
    "* parses 2 position range format ( .. between values) and ignores single position annotation\n",
    "* outputs position range separated by -"
   ]
  },
  {
   "cell_type": "code",
   "execution_count": 101,
   "metadata": {},
   "outputs": [
    {
     "name": "stdout",
     "output_type": "stream",
     "text": [
      "['89-92', '983-985']\n"
     ]
    }
   ],
   "source": [
    "helix = 'HELIX 89..92;  /evidence=\"ECO:0007829|PDB:4IQH\"; HELIX 983..985;  /evidence=\"ECO:0007829|PDB:4CAH\"'\n",
    "helix_coords = []\n",
    "helix = helix.split(\"HELIX \")\n",
    "for item in helix:\n",
    "    # check if its a range\n",
    "    if \"..\" in item:\n",
    "        # ignores non HELIX #..# in item by spliting on HELIX\n",
    "        helix_coords.append(item.partition(\";  \")[0].split(\"..\"))\n",
    "helix_coords2 = []\n",
    "for item in helix_coords:\n",
    "    if len(item) > 1:\n",
    "        # checks if there is isoform id preface or if range for other type of annotation\n",
    "        if \"-\" not in item[0] and \" \" not in item[0]:\n",
    "            helix_coords2.append(item)\n",
    "helix_ranges = [x + \"-\" + y for x, y in helix_coords2]\n",
    "\n",
    "print(helix_ranges)"
   ]
  },
  {
   "cell_type": "markdown",
   "metadata": {},
   "source": [
    "## parsing TURN, Turns within the experimentally determined protein structure \n",
    "```python \n",
    "turn = 'TURN 99..101;  /evidence=\"ECO:0007829|PDB:1QGR\"; TURN 202..205;  /evidence=\"ECO:0007829|PDB:1IBR\"'\n",
    "```\n",
    "**what parsing code does..**\n",
    "* splits string on certain all caps word like NP_BIND, ZN_FING, STRAND, DOMAIN, etc.\n",
    "* ignores positions prefaced by something other than all caps word used to split string and positions prefaced by uniprot isoform id, ex P1234-3:2..4 ignored and TURN 10..14 ignored for STRAND split()\n",
    "* parses 2 position range format ( .. between values) and ignores single position annotation\n",
    "* outputs position range separated by -"
   ]
  },
  {
   "cell_type": "code",
   "execution_count": 104,
   "metadata": {},
   "outputs": [
    {
     "name": "stdout",
     "output_type": "stream",
     "text": [
      "['202-205']\n"
     ]
    }
   ],
   "source": [
    "turn = 'TRN 99..99;  /evidence=\"ECO:0007829|PDB:1QGR\"; TURN 202..205;  /evidence=\"ECO:0007829|PDB:1IBR\"'\n",
    "turn_coords = []\n",
    "turn = turn.split(\"TURN \")\n",
    "for item in turn:\n",
    "    # check if its a range\n",
    "    if \"..\" in item:\n",
    "        # ignores non TURN #..# in item by spliting on TURN\n",
    "        turn_coords.append(item.partition(\";  \")[0].split(\"..\"))\n",
    "turn_coords2 = []\n",
    "for item in turn_coords:\n",
    "    if len(item) > 1:\n",
    "        # checks if there is isoform id preface or if range for other type of annotation\n",
    "        if \"-\" not in item[0] and \" \" not in item[0]:\n",
    "            turn_coords2.append(item)\n",
    "turn_ranges = [x + \"-\" + y for x, y in turn_coords2]\n",
    "\n",
    "print(turn_ranges)"
   ]
  }
 ],
 "metadata": {
  "kernelspec": {
   "display_name": "Python 3",
   "language": "python",
   "name": "python3"
  },
  "language_info": {
   "codemirror_mode": {
    "name": "ipython",
    "version": 3
   },
   "file_extension": ".py",
   "mimetype": "text/x-python",
   "name": "python",
   "nbconvert_exporter": "python",
   "pygments_lexer": "ipython3",
   "version": "3.7.4"
  }
 },
 "nbformat": 4,
 "nbformat_minor": 4
}
